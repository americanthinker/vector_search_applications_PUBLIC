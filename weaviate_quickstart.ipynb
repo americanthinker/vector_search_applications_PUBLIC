{
 "cells": [
  {
   "cell_type": "markdown",
   "id": "f97ad09a-1695-4f7a-b8da-054b6376f203",
   "metadata": {},
   "source": [
    "# Weaviate Quickstart Tutorial"
   ]
  },
  {
   "cell_type": "markdown",
   "id": "c11201f2-cd79-4f1a-a1b6-94f02496c153",
   "metadata": {},
   "source": [
    "## Step 0: Install Python client library"
   ]
  },
  {
   "cell_type": "code",
   "execution_count": 47,
   "id": "03679d78-d826-4cec-8b34-9ff4bd5fd588",
   "metadata": {},
   "outputs": [],
   "source": [
    "#!pip install weaviate-client==3.25.3 --quiet\n",
    "#!pip install rich --quiet"
   ]
  },
  {
   "cell_type": "markdown",
   "id": "e2e32288-ea92-4d89-9ebb-76c505175f40",
   "metadata": {},
   "source": [
    "## Step 1: Create a Weaviate databse (using the Embedded option). \n",
    "For this tutorial we'll use the Weaviate Embedded as our datastore, but for the actual course we'll switch to a clouded hosted instance on Weaviate Cloud Services (WCS)"
   ]
  },
  {
   "cell_type": "code",
   "execution_count": 46,
   "id": "5b1bfa5e-f342-495d-ad58-cfc913b5d8c3",
   "metadata": {},
   "outputs": [
    {
     "name": "stdout",
     "output_type": "stream",
     "text": [
      "embedded weaviate is already listening on port 8079\n"
     ]
    }
   ],
   "source": [
    "import weaviate\n",
    "from weaviate.embedded import EmbeddedOptions\n",
    "from rich import print # nice library for pretty printing\n",
    "\n",
    "# for an explanation of what's going on here see: https://weaviate.io/developers/weaviate/installation/embedded#starting-embedded-weaviate-under-the-hood\n",
    "client = weaviate.Client(embedded_options=EmbeddedOptions())"
   ]
  },
  {
   "cell_type": "markdown",
   "id": "435b8a4d-63f1-42c6-82a2-b82fbda52885",
   "metadata": {},
   "source": [
    "## Step 2: Create a Class aka an \"Index\""
   ]
  },
  {
   "cell_type": "code",
   "execution_count": 9,
   "id": "e9364246-0376-4a9c-9eb3-1c4f3879dfd5",
   "metadata": {},
   "outputs": [
    {
     "name": "stdout",
     "output_type": "stream",
     "text": [
      "Embedded weaviate wasn't listening on port 8079, so starting embedded weaviate again\n",
      "Started /home/elastic/.cache/weaviate-embedded: process ID 1370687\n"
     ]
    },
    {
     "name": "stderr",
     "output_type": "stream",
     "text": [
      "{\"action\":\"startup\",\"default_vectorizer_module\":\"none\",\"level\":\"info\",\"msg\":\"the default vectorizer modules is set to \\\"none\\\", as a result all new schema classes without an explicit vectorizer setting, will use this vectorizer\",\"time\":\"2023-11-25T00:22:12Z\"}\n",
      "{\"action\":\"startup\",\"auto_schema_enabled\":true,\"level\":\"info\",\"msg\":\"auto schema enabled setting is set to \\\"true\\\"\",\"time\":\"2023-11-25T00:22:12Z\"}\n",
      "{\"action\":\"hnsw_vector_cache_prefill\",\"count\":3000,\"index_id\":\"wine_NsJ5EuCxvoPp\",\"level\":\"info\",\"limit\":1000000000000,\"msg\":\"prefilled vector cache\",\"time\":\"2023-11-25T00:22:12Z\",\"took\":72497}\n",
      "{\"level\":\"warning\",\"msg\":\"Multiple vector spaces are present, GraphQL Explore and REST API list objects endpoint module include params has been disabled as a result.\",\"time\":\"2023-11-25T00:22:12Z\"}\n",
      "{\"action\":\"grpc_startup\",\"level\":\"info\",\"msg\":\"grpc server listening at [::]:50060\",\"time\":\"2023-11-25T00:22:12Z\"}\n",
      "{\"action\":\"restapi_management\",\"level\":\"info\",\"msg\":\"Serving weaviate at http://127.0.0.1:8079\",\"time\":\"2023-11-25T00:22:12Z\"}\n",
      "{\"action\":\"hnsw_vector_cache_prefill\",\"count\":1000,\"index_id\":\"question_htVCwMtsXzQ7\",\"level\":\"info\",\"limit\":1000000000000,\"msg\":\"prefilled vector cache\",\"time\":\"2023-11-25T00:22:12Z\",\"took\":164794}\n"
     ]
    }
   ],
   "source": [
    "class_name = \"Question\"\n",
    "\n",
    "class_obj = {\n",
    "    \"class\": class_name,\n",
    "    \"vectorizer\": \"none\",  # If set to \"none\" you must always provide vectors yourself.\n",
    "}\n",
    "\n",
    "client.schema.create_class(class_obj)"
   ]
  },
  {
   "cell_type": "markdown",
   "id": "7da43ec9-9fe6-418a-bbff-a2cd0908a4c9",
   "metadata": {},
   "source": [
    "## Step 3: Import Data from Github"
   ]
  },
  {
   "cell_type": "markdown",
   "id": "489956ec-474e-49e6-95a1-f36415777b03",
   "metadata": {},
   "source": [
    "Import a very tiny dataset (n=10) of Jeopardy questions and their associated embeddings"
   ]
  },
  {
   "cell_type": "code",
   "execution_count": 34,
   "id": "8327d615-328e-4344-9369-cb5707394133",
   "metadata": {},
   "outputs": [],
   "source": [
    "import requests\n",
    "import json\n",
    "\n",
    "fname = \"jeopardy_tiny_with_vectors.json\"  # This file includes pre-generated vectors\n",
    "url = f'https://raw.githubusercontent.com/americanthinker/vector_search_applications_PUBLIC/master/{fname}'\n",
    "resp = requests.get(url)\n",
    "data = json.loads(resp.text)  # Load data"
   ]
  },
  {
   "cell_type": "markdown",
   "id": "6114f33a-66b7-416b-86cd-6a124ba3c808",
   "metadata": {},
   "source": [
    "## Step 4: Index Data on Weaviate DB\n",
    "Use the client batch class to quickly index the data"
   ]
  },
  {
   "cell_type": "code",
   "execution_count": 35,
   "id": "d1253d5c-5a43-4604-bf46-cf7a308485ec",
   "metadata": {},
   "outputs": [
    {
     "name": "stdout",
     "output_type": "stream",
     "text": [
      "importing question: 1\n",
      "importing question: 2\n",
      "importing question: 3\n",
      "importing question: 4\n",
      "importing question: 5\n",
      "importing question: 6\n",
      "importing question: 7\n",
      "importing question: 8\n",
      "importing question: 9\n",
      "importing question: 10\n"
     ]
    }
   ],
   "source": [
    "client.batch.configure(batch_size=100)  # Configure batch\n",
    "with client.batch as batch:  # Configure a batch process\n",
    "    for i, d in enumerate(data, 1):  # Batch import all Questions\n",
    "        print(f\"importing question: {i}\")\n",
    "        properties = {\n",
    "            \"answer\": d[\"Answer\"],\n",
    "            \"question\": d[\"Question\"],\n",
    "            \"category\": d[\"Category\"],\n",
    "        }\n",
    "        batch.add_data_object(\n",
    "            data_object=properties,\n",
    "            class_name=\"Question\",\n",
    "            vector=d[\"vector\"]  # Add custom vector\n",
    "        )"
   ]
  },
  {
   "cell_type": "markdown",
   "id": "06fadb50-f173-474d-acb3-1bafaa5e276c",
   "metadata": {},
   "source": [
    "### View data on Weaviate host\n",
    "You should see an `objectCount` of 10 and a `vectorIndexingStatus` of `READY`"
   ]
  },
  {
   "cell_type": "code",
   "execution_count": 42,
   "id": "1932c641-2919-4cd8-a6b2-4abd63f32c0a",
   "metadata": {},
   "outputs": [
    {
     "data": {
      "text/plain": [
       "[{'class': 'Question',\n",
       "  'name': 'htVCwMtsXzQ7',\n",
       "  'objectCount': 10,\n",
       "  'vectorIndexingStatus': 'READY',\n",
       "  'vectorQueueLength': 0}]"
      ]
     },
     "execution_count": 42,
     "metadata": {},
     "output_type": "execute_result"
    }
   ],
   "source": [
    "client.cluster.get_nodes_status()[0]['shards']"
   ]
  },
  {
   "cell_type": "markdown",
   "id": "29dcae9a-e039-4546-aea5-d88d7f95e18e",
   "metadata": {},
   "source": [
    "# Step 5: Queries"
   ]
  },
  {
   "cell_type": "markdown",
   "id": "c8967e9f-e47a-44b6-a488-855d73d99135",
   "metadata": {},
   "source": [
    "### Download Embedding Model to embed queries"
   ]
  },
  {
   "cell_type": "code",
   "execution_count": 43,
   "id": "bf5c3695-fdbb-40b7-aa96-592c4d397172",
   "metadata": {},
   "outputs": [],
   "source": [
    "from sentence_transformers import SentenceTransformer\n",
    "model_path = 'sentence-transformers/all-MiniLM-L6-v2'\n",
    "model = SentenceTransformer(model_path)"
   ]
  },
  {
   "cell_type": "markdown",
   "id": "ae3d5c28-56f6-4ad7-9d84-bc199248220f",
   "metadata": {},
   "source": [
    "### Execute Vector/Semantic search"
   ]
  },
  {
   "cell_type": "code",
   "execution_count": 62,
   "id": "55afd54d-9a66-48b8-9c4a-4b6c2b58ed54",
   "metadata": {},
   "outputs": [],
   "source": [
    "#create text query\n",
    "query = 'biological'\n",
    "#embed query as a vector for comparison with vectors in datastore\n",
    "query_vector = model.encode(query)\n",
    "\n",
    "response = (\n",
    "    client.query\n",
    "    .get(class_name, [\"question\", \"answer\", \"category\"]) #direct query at Class that we created previously and set properties to display in response\n",
    "    .with_near_vector({\"vector\": query_vector}) # pass in query_vector\n",
    "    .with_limit(3) # limit # of results to n\n",
    "    .do()  # execute query\n",
    ")"
   ]
  },
  {
   "cell_type": "code",
   "execution_count": 63,
   "id": "cb3945c2-b09a-4467-8ad8-57b676ebb252",
   "metadata": {},
   "outputs": [
    {
     "data": {
      "text/html": [
       "<pre style=\"white-space:pre;overflow-x:auto;line-height:normal;font-family:Menlo,'DejaVu Sans Mono',consolas,'Courier New',monospace\"><span style=\"font-weight: bold\">{</span>\n",
       "    <span style=\"color: #008000; text-decoration-color: #008000\">'data'</span>: <span style=\"font-weight: bold\">{</span>\n",
       "        <span style=\"color: #008000; text-decoration-color: #008000\">'Get'</span>: <span style=\"font-weight: bold\">{</span>\n",
       "            <span style=\"color: #008000; text-decoration-color: #008000\">'Question'</span>: <span style=\"font-weight: bold\">[</span>\n",
       "                <span style=\"font-weight: bold\">{</span>\n",
       "                    <span style=\"color: #008000; text-decoration-color: #008000\">'answer'</span>: <span style=\"color: #008000; text-decoration-color: #008000\">'Elephant'</span>,\n",
       "                    <span style=\"color: #008000; text-decoration-color: #008000\">'category'</span>: <span style=\"color: #008000; text-decoration-color: #008000\">'ANIMALS'</span>,\n",
       "                    <span style=\"color: #008000; text-decoration-color: #008000\">'question'</span>: <span style=\"color: #008000; text-decoration-color: #008000\">\"It's the only living mammal in the order Proboseidea\"</span>\n",
       "                <span style=\"font-weight: bold\">}</span>,\n",
       "                <span style=\"font-weight: bold\">{</span>\n",
       "                    <span style=\"color: #008000; text-decoration-color: #008000\">'answer'</span>: <span style=\"color: #008000; text-decoration-color: #008000\">'DNA'</span>,\n",
       "                    <span style=\"color: #008000; text-decoration-color: #008000\">'category'</span>: <span style=\"color: #008000; text-decoration-color: #008000\">'SCIENCE'</span>,\n",
       "                    <span style=\"color: #008000; text-decoration-color: #008000\">'question'</span>: <span style=\"color: #008000; text-decoration-color: #008000\">'In 1953 Watson &amp; Crick built a model of the molecular structure of this, the </span>\n",
       "<span style=\"color: #008000; text-decoration-color: #008000\">gene-carrying substance'</span>\n",
       "                <span style=\"font-weight: bold\">}</span>,\n",
       "                <span style=\"font-weight: bold\">{</span>\n",
       "                    <span style=\"color: #008000; text-decoration-color: #008000\">'answer'</span>: <span style=\"color: #008000; text-decoration-color: #008000\">'Liver'</span>,\n",
       "                    <span style=\"color: #008000; text-decoration-color: #008000\">'category'</span>: <span style=\"color: #008000; text-decoration-color: #008000\">'SCIENCE'</span>,\n",
       "                    <span style=\"color: #008000; text-decoration-color: #008000\">'question'</span>: <span style=\"color: #008000; text-decoration-color: #008000\">'This organ removes excess glucose from the blood &amp; stores it as glycogen'</span>\n",
       "                <span style=\"font-weight: bold\">}</span>\n",
       "            <span style=\"font-weight: bold\">]</span>\n",
       "        <span style=\"font-weight: bold\">}</span>\n",
       "    <span style=\"font-weight: bold\">}</span>\n",
       "<span style=\"font-weight: bold\">}</span>\n",
       "</pre>\n"
      ],
      "text/plain": [
       "\u001b[1m{\u001b[0m\n",
       "    \u001b[32m'data'\u001b[0m: \u001b[1m{\u001b[0m\n",
       "        \u001b[32m'Get'\u001b[0m: \u001b[1m{\u001b[0m\n",
       "            \u001b[32m'Question'\u001b[0m: \u001b[1m[\u001b[0m\n",
       "                \u001b[1m{\u001b[0m\n",
       "                    \u001b[32m'answer'\u001b[0m: \u001b[32m'Elephant'\u001b[0m,\n",
       "                    \u001b[32m'category'\u001b[0m: \u001b[32m'ANIMALS'\u001b[0m,\n",
       "                    \u001b[32m'question'\u001b[0m: \u001b[32m\"It's the only living mammal in the order Proboseidea\"\u001b[0m\n",
       "                \u001b[1m}\u001b[0m,\n",
       "                \u001b[1m{\u001b[0m\n",
       "                    \u001b[32m'answer'\u001b[0m: \u001b[32m'DNA'\u001b[0m,\n",
       "                    \u001b[32m'category'\u001b[0m: \u001b[32m'SCIENCE'\u001b[0m,\n",
       "                    \u001b[32m'question'\u001b[0m: \u001b[32m'In 1953 Watson & Crick built a model of the molecular structure of this, the \u001b[0m\n",
       "\u001b[32mgene-carrying substance'\u001b[0m\n",
       "                \u001b[1m}\u001b[0m,\n",
       "                \u001b[1m{\u001b[0m\n",
       "                    \u001b[32m'answer'\u001b[0m: \u001b[32m'Liver'\u001b[0m,\n",
       "                    \u001b[32m'category'\u001b[0m: \u001b[32m'SCIENCE'\u001b[0m,\n",
       "                    \u001b[32m'question'\u001b[0m: \u001b[32m'This organ removes excess glucose from the blood & stores it as glycogen'\u001b[0m\n",
       "                \u001b[1m}\u001b[0m\n",
       "            \u001b[1m]\u001b[0m\n",
       "        \u001b[1m}\u001b[0m\n",
       "    \u001b[1m}\u001b[0m\n",
       "\u001b[1m}\u001b[0m\n"
      ]
     },
     "metadata": {},
     "output_type": "display_data"
    }
   ],
   "source": [
    "print(response)"
   ]
  },
  {
   "cell_type": "markdown",
   "id": "aacd4208-4dd2-4c2f-b995-bb760027a036",
   "metadata": {},
   "source": [
    "### Execute BM25 search"
   ]
  },
  {
   "cell_type": "code",
   "execution_count": 72,
   "id": "a3aef907-7628-4f30-aabb-615eb6f30213",
   "metadata": {},
   "outputs": [],
   "source": [
    "response = (\n",
    "    client.query\n",
    "    .get(class_name, [\"question\", \"answer\", \"category\"])\n",
    "    .with_bm25(\n",
    "      query=\"glycogen\"\n",
    "    )\n",
    "    .with_limit(3)\n",
    "    .do()\n",
    ")"
   ]
  },
  {
   "cell_type": "code",
   "execution_count": 73,
   "id": "ad644c02-c467-4821-992b-b804dd145de0",
   "metadata": {},
   "outputs": [
    {
     "data": {
      "text/html": [
       "<pre style=\"white-space:pre;overflow-x:auto;line-height:normal;font-family:Menlo,'DejaVu Sans Mono',consolas,'Courier New',monospace\"><span style=\"font-weight: bold\">{</span>\n",
       "    <span style=\"color: #008000; text-decoration-color: #008000\">'data'</span>: <span style=\"font-weight: bold\">{</span>\n",
       "        <span style=\"color: #008000; text-decoration-color: #008000\">'Get'</span>: <span style=\"font-weight: bold\">{</span>\n",
       "            <span style=\"color: #008000; text-decoration-color: #008000\">'Question'</span>: <span style=\"font-weight: bold\">[</span>\n",
       "                <span style=\"font-weight: bold\">{</span>\n",
       "                    <span style=\"color: #008000; text-decoration-color: #008000\">'answer'</span>: <span style=\"color: #008000; text-decoration-color: #008000\">'Liver'</span>,\n",
       "                    <span style=\"color: #008000; text-decoration-color: #008000\">'category'</span>: <span style=\"color: #008000; text-decoration-color: #008000\">'SCIENCE'</span>,\n",
       "                    <span style=\"color: #008000; text-decoration-color: #008000\">'question'</span>: <span style=\"color: #008000; text-decoration-color: #008000\">'This organ removes excess glucose from the blood &amp; stores it as glycogen'</span>\n",
       "                <span style=\"font-weight: bold\">}</span>\n",
       "            <span style=\"font-weight: bold\">]</span>\n",
       "        <span style=\"font-weight: bold\">}</span>\n",
       "    <span style=\"font-weight: bold\">}</span>\n",
       "<span style=\"font-weight: bold\">}</span>\n",
       "</pre>\n"
      ],
      "text/plain": [
       "\u001b[1m{\u001b[0m\n",
       "    \u001b[32m'data'\u001b[0m: \u001b[1m{\u001b[0m\n",
       "        \u001b[32m'Get'\u001b[0m: \u001b[1m{\u001b[0m\n",
       "            \u001b[32m'Question'\u001b[0m: \u001b[1m[\u001b[0m\n",
       "                \u001b[1m{\u001b[0m\n",
       "                    \u001b[32m'answer'\u001b[0m: \u001b[32m'Liver'\u001b[0m,\n",
       "                    \u001b[32m'category'\u001b[0m: \u001b[32m'SCIENCE'\u001b[0m,\n",
       "                    \u001b[32m'question'\u001b[0m: \u001b[32m'This organ removes excess glucose from the blood & stores it as glycogen'\u001b[0m\n",
       "                \u001b[1m}\u001b[0m\n",
       "            \u001b[1m]\u001b[0m\n",
       "        \u001b[1m}\u001b[0m\n",
       "    \u001b[1m}\u001b[0m\n",
       "\u001b[1m}\u001b[0m\n"
      ]
     },
     "metadata": {},
     "output_type": "display_data"
    },
    {
     "name": "stderr",
     "output_type": "stream",
     "text": [
      "Bad pipe message: %s [b'5\\xf6m\\x9aMlVq,ep\\x9b\\xe69\\xb2\\xaf\\x97\\xb3 \\x881\\xa4!m\\xdd\\xed7\\x010\\xd6:\\xff\\x02b\\xf3\\x8b0/\\xf0\\xfa\\x9aM\\xd4\\x89\\xe8']\n",
      "Bad pipe message: %s [b'\\x0fK\\xd0\\xb9\\x00\\x08\\x13\\x02\\x13\\x03\\x13\\x01\\x00\\xff\\x01\\x00\\x00\\x8f\\x00\\x00\\x00\\x0e\\x00\\x0c\\x00\\x00\\t127.0.0.1\\x00\\x0b\\x00\\x04\\x03\\x00\\x01\\x02\\x00\\n\\x00\\x0c\\x00\\n\\x00\\x1d\\x00\\x17\\x00\\x1e\\x00\\x19\\x00\\x18\\x00#\\x00\\x00\\x00\\x16\\x00\\x00\\x00\\x17\\x00\\x00\\x00\\r\\x00\\x1e\\x00\\x1c\\x04\\x03\\x05\\x03\\x06\\x03\\x08\\x07\\x08\\x08\\x08\\t\\x08\\n\\x08\\x0b\\x08\\x04\\x08\\x05\\x08\\x06\\x04\\x01\\x05\\x01\\x06\\x01\\x00+\\x00\\x03\\x02\\x03\\x04\\x00-\\x00\\x02\\x01\\x01\\x003\\x00&\\x00$\\x00\\x1d\\x00 \\x07k\\xe7\\x1b\\xcc\\x7f']\n",
      "Bad pipe message: %s [b'\\x1f2\\xf3|g\\xc1\\x0e\\xc7\\xc3\\x8c\\x9e8d&_\\x93)\\xf5\\x00\\x00|\\xc0,\\xc00\\x00\\xa3\\x00\\x9f\\xcc\\xa9\\xcc\\xa8\\xcc\\xaa\\xc0\\xaf\\xc0\\xad\\xc0\\xa3\\xc0\\x9f\\xc0]\\xc0a\\xc0W\\xc0S\\xc0+\\xc0/\\x00\\xa2\\x00\\x9e\\xc0\\xae\\xc0\\xac\\xc0\\xa2\\xc0\\x9e\\xc0\\\\\\xc0`\\xc0V\\xc0']\n",
      "Bad pipe message: %s [b\"$\\xc0(\\x00k\\x00j\\xc0#\\xc0'\\x00g\\x00@\\xc0\\n\\xc0\\x14\\x009\\x008\\xc0\\t\\xc0\\x13\\x003\\x002\\x00\\x9d\\xc0\\xa1\\xc0\\x9d\\xc0Q\\x00\\x9c\\xc0\\xa0\\xc0\\x9c\\xc0P\\x00=\\x00<\\x005\\x00/\\x00\\x9a\\x00\\x99\\xc0\\x07\\xc0\\x11\\x00\\x96\\x00\\x05\\x00\\xff\\x01\\x00\\x00j\\x00\\x00\\x00\\x0e\\x00\\x0c\\x00\\x00\"]\n",
      "Bad pipe message: %s [b\"vI\\xdc>:\\xadx\\x1f\\xd4\\xac[\\xd9\\x96r\\xdc\\xd8c'\\x00\\x00\\xa2\\xc0\\x14\\xc0\\n\\x009\\x008\\x007\\x006\\x00\\x88\\x00\\x87\\x00\\x86\\x00\\x85\\xc0\\x19\\x00:\\x00\\x89\\xc0\\x0f\\xc0\\x05\\x005\\x00\\x84\\xc0\\x13\\xc0\\t\\x003\\x002\\x001\\x000\\x00\\x9a\\x00\\x99\\x00\\x98\\x00\\x97\\x00E\\x00D\\x00C\\x00B\\xc0\\x18\\x004\\x00\\x9b\\x00F\\xc0\\x0e\\xc0\\x04\\x00/\\x00\\x96\\x00A\\x00\\x07\\xc0\\x11\\xc0\\x07\\xc0\\x16\\x00\\x18\\xc0\\x0c\\xc0\\x02\\x00\\x05\\x00\\x04\\xc0\\x12\\xc0\\x08\\x00\\x16\\x00\\x13\\x00\\x10\\x00\\r\\xc0\\x17\\x00\\x1b\\xc0\\r\\xc0\\x03\\x00\\n\\x00\\x15\\x00\\x12\\x00\\x0f\\x00\\x0c\\x00\\x1a\\x00\\t\\x00\\x14\\x00\\x11\\x00\\x19\\x00\\x08\\x00\\x06\\x00\\x17\\x00\\x03\\xc0\\x10\\xc0\\x06\\xc0\\x15\\xc0\\x0b\\xc0\\x01\\x00\\x02\\x00\\x01\\x00\\xff\\x02\\x01\\x00\\x00C\\x00\\x00\\x00\\x0e\\x00\\x0c\\x00\\x00\\t127.0.0.1\\x00\\x0b\"]\n",
      "Bad pipe message: %s [b'\\tu\\xb4\\xb6\\xe6\\xab\\xee\\xd9X\\xd7\\xbe\\x84\\xef)\\x92\\xaaOV\\x00\\x00\\xa2\\xc0\\x14\\xc0\\n\\x009\\x008\\x007\\x006\\x00\\x88\\x00\\x87\\x00\\x86\\x00\\x85\\xc0\\x19\\x00:\\x00\\x89\\xc0\\x0f\\xc0\\x05\\x005\\x00\\x84\\xc0\\x13\\xc0\\t\\x003\\x002\\x001\\x000\\x00\\x9a\\x00\\x99\\x00\\x98\\x00\\x97\\x00E\\x00D\\x00C']\n",
      "Bad pipe message: %s [b\">\\xc1t\\xb7\\x19\\xeb\\xf0t\\xb3\\x0fa\\xe1&\\xc3\\xba\\x11\\xd5\\xbc\\x00\\x00\\xf4\\xc00\\xc0,\\xc0(\\xc0$\\xc0\\x14\\xc0\\n\\x00\\xa5\\x00\\xa3\\x00\\xa1\\x00\\x9f\\x00k\\x00j\\x00i\\x00h\\x009\\x008\\x007\\x006\\x00\\x88\\x00\\x87\\x00\\x86\\x00\\x85\\xc0\\x19\\x00\\xa7\\x00m\\x00:\\x00\\x89\\xc02\\xc0.\\xc0*\\xc0&\\xc0\\x0f\\xc0\\x05\\x00\\x9d\\x00=\\x005\\x00\\x84\\xc0/\\xc0+\\xc0'\\xc0#\\xc0\\x13\\xc0\\t\\x00\\xa4\\x00\\xa2\\x00\\xa0\\x00\\x9e\\x00g\\x00@\\x00\", b'>\\x003\\x002\\x001\\x000\\x00\\x9a\\x00\\x99\\x00\\x98\\x00\\x97\\x00E\\x00D\\x00C\\x00B\\xc0\\x18\\x00\\xa6\\x00l\\x004\\x00\\x9b\\x00F\\xc01\\xc0-\\xc0)\\xc0%\\xc0\\x0e\\xc0\\x04\\x00\\x9c\\x00<\\x00/\\x00\\x96\\x00A\\x00\\x07\\xc0']\n",
      "Bad pipe message: %s [b'\\x07\\xc0\\x16\\x00\\x18\\xc0\\x0c\\xc0\\x02\\x00\\x05\\x00\\x04\\xc0\\x12\\xc0']\n",
      "Bad pipe message: %s [b'\\x16\\x00\\x13\\x00\\x10\\x00\\r']\n"
     ]
    }
   ],
   "source": [
    "print(response)"
   ]
  },
  {
   "cell_type": "markdown",
   "id": "dca3b0b6-5db7-4cb6-9d86-7c81865ab5c2",
   "metadata": {},
   "source": [
    "# Conclusion\n",
    "This was a quick overview of Weaviate capabilities, the purpose of this tutorial is simply to familiarize someone with the Weaviate API if they've never used it before or haven't touched it in a while, in prepartion for the [Vector Search Applications with LLMs course](https://uplimit.com/course/vector-search-apps). "
   ]
  },
  {
   "cell_type": "code",
   "execution_count": null,
   "id": "cd5b37ee-7895-4435-9187-1d76a8cf20c5",
   "metadata": {},
   "outputs": [],
   "source": []
  }
 ],
 "metadata": {
  "kernelspec": {
   "display_name": "openai",
   "language": "python",
   "name": "openai"
  },
  "language_info": {
   "codemirror_mode": {
    "name": "ipython",
    "version": 3
   },
   "file_extension": ".py",
   "mimetype": "text/x-python",
   "name": "python",
   "nbconvert_exporter": "python",
   "pygments_lexer": "ipython3",
   "version": "3.10.13"
  }
 },
 "nbformat": 4,
 "nbformat_minor": 5
}
